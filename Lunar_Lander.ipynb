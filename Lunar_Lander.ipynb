{
  "cells": [
    {
      "cell_type": "markdown",
      "metadata": {
        "id": "U9pki33zy-aH"
      },
      "source": [
        "# **SETTING UP ENVIRONMENT**"
      ]
    },
    {
      "cell_type": "code",
      "execution_count": null,
      "metadata": {
        "id": "eerdgSXHAPcR"
      },
      "outputs": [],
      "source": [
        "!git clone https://github.com/pybox2d/pybox2d --quiet && cd pybox2d"
      ]
    },
    {
      "cell_type": "code",
      "execution_count": null,
      "metadata": {
        "colab": {
          "base_uri": "https://localhost:8080/"
        },
        "id": "Vn2ztXKCAw-O",
        "outputId": "c573cd81-3057-44fc-de0e-c055e34d5342"
      },
      "outputs": [
        {
          "name": "stdout",
          "output_type": "stream",
          "text": [
            "python3: can't open file '/content/setup.py': [Errno 2] No such file or directory\n",
            "python3: can't open file '/content/setup.py': [Errno 2] No such file or directory\n",
            "python3: can't open file '/content/setup.py': [Errno 2] No such file or directory\n",
            "Reading package lists...\n",
            "Building dependency tree...\n",
            "Reading state information...\n",
            "Package python-dev is not available, but is referred to by another package.\n",
            "This may mean that the package is missing, has been obsoleted, or\n",
            "is only available from another source\n",
            "However the following packages replace it:\n",
            "  python2-dev python2 python-dev-is-python3\n",
            "\n",
            "E: Package 'python-dev' has no installation candidate\n",
            "\u001b[2K     \u001b[90m━━━━━━━━━━━━━━━━━━━━━━━━━━━━━━━━━━━━━━━━\u001b[0m \u001b[32m1.8/1.8 MB\u001b[0m \u001b[31m12.4 MB/s\u001b[0m eta \u001b[36m0:00:00\u001b[0m\n",
            "\u001b[2K     \u001b[90m━━━━━━━━━━━━━━━━━━━━━━━━━━━━━━━━━━━━━━\u001b[0m \u001b[32m953.8/953.8 kB\u001b[0m \u001b[31m10.3 MB/s\u001b[0m eta \u001b[36m0:00:00\u001b[0m\n",
            "\u001b[2K     \u001b[90m━━━━━━━━━━━━━━━━━━━━━━━━━━━━━━━━━━━━━━\u001b[0m \u001b[32m374.4/374.4 kB\u001b[0m \u001b[31m18.2 MB/s\u001b[0m eta \u001b[36m0:00:00\u001b[0m\n",
            "\u001b[?25h  Preparing metadata (setup.py) ... \u001b[?25l\u001b[?25hdone\n",
            "  Building wheel for box2d-py (setup.py) ... \u001b[?25l\u001b[?25hdone\n"
          ]
        }
      ],
      "source": [
        "!python setup.py clean --quiet\n",
        "!python setup.py build --quiet\n",
        "!sudo python setup.py install --quiet\n",
        "!apt-get install -y python-dev swig --quiet\n",
        "!pip install -q swig\n",
        "!pip install -q gymnasium[box2d]\n",
        "# !pip install gym[box2d]\n"
      ]
    },
    {
      "cell_type": "code",
      "execution_count": null,
      "metadata": {
        "id": "BnH-vWnFAywf"
      },
      "outputs": [],
      "source": [
        "import gym\n",
        "import numpy as np\n",
        "import random\n",
        "import matplotlib.pyplot as plt\n",
        "import torch\n",
        "import torch.nn as nn\n",
        "import torch.nn.functional as F\n",
        "import torch.optim as optim\n",
        "from collections import deque, namedtuple"
      ]
    },
    {
      "cell_type": "code",
      "execution_count": null,
      "metadata": {
        "colab": {
          "base_uri": "https://localhost:8080/"
        },
        "id": "BoQDw-V1CYnd",
        "outputId": "ddde43ab-e5b7-4aa7-b883-9dc225b48eca"
      },
      "outputs": [
        {
          "name": "stderr",
          "output_type": "stream",
          "text": [
            "/usr/local/lib/python3.10/dist-packages/ipykernel/ipkernel.py:283: DeprecationWarning: `should_run_async` will not call `transform_cell` automatically in the future. Please pass the result to `transformed_cell` argument and any exception that happen during thetransform in `preprocessing_exc_tuple` in IPython 7.17 and above.\n",
            "  and should_run_async(code)\n"
          ]
        },
        {
          "name": "stdout",
          "output_type": "stream",
          "text": [
            "State Shape: (8,)\n",
            "Action Shape: 4\n"
          ]
        },
        {
          "name": "stderr",
          "output_type": "stream",
          "text": [
            "/usr/local/lib/python3.10/dist-packages/gym/core.py:317: DeprecationWarning: \u001b[33mWARN: Initializing wrapper in old step API which returns one bool instead of two. It is recommended to set `new_step_api=True` to use new step API. This will be the default behaviour in future.\u001b[0m\n",
            "  deprecation(\n",
            "/usr/local/lib/python3.10/dist-packages/gym/wrappers/step_api_compatibility.py:39: DeprecationWarning: \u001b[33mWARN: Initializing environment in old step API which returns one bool instead of two. It is recommended to set `new_step_api=True` to use new step API. This will be the default behaviour in future.\u001b[0m\n",
            "  deprecation(\n",
            "/usr/local/lib/python3.10/dist-packages/gym/core.py:256: DeprecationWarning: \u001b[33mWARN: Function `env.seed(seed)` is marked as deprecated and will be removed in the future. Please use `env.reset(seed=seed)` instead.\u001b[0m\n",
            "  deprecation(\n"
          ]
        }
      ],
      "source": [
        "def setup_environment(env_name, seed=42):\n",
        "    try:\n",
        "        env = gym.make(env_name)\n",
        "        env.seed(seed)\n",
        "        print(f\"State Shape: {env.observation_space.shape}\")\n",
        "        print(f\"Action Shape: {env.action_space.n}\")\n",
        "        return env\n",
        "    except gym.error.UnregisteredEnv as e:\n",
        "        print(f\"Error: The environment '{env_name}' is not found.\")\n",
        "        return None\n",
        "    except Exception as e:\n",
        "        print(f\"An error occurred: {e}\")\n",
        "        return None\n",
        "\n",
        "env = setup_environment('LunarLander-v2', 42)\n"
      ]
    },
    {
      "cell_type": "markdown",
      "metadata": {
        "id": "mS8sPgkezFyg"
      },
      "source": [
        "# **NEURAL NETWORK**"
      ]
    },
    {
      "cell_type": "code",
      "execution_count": null,
      "metadata": {
        "id": "6oCxGnE0wJRp"
      },
      "outputs": [],
      "source": [
        "def seed_everything(seed):\n",
        "  random.seed(seed)\n",
        "  np.random.seed(seed)\n",
        "  torch.manual_seed(seed)\n",
        "  torch.cuda.manual_seed(seed)\n",
        "  torch.backends.cudnn.deterministic = True\n",
        "  torch.backends.cudnn.benchmark = False\n",
        "\n",
        "seed_everything(42)"
      ]
    },
    {
      "cell_type": "code",
      "execution_count": null,
      "metadata": {
        "id": "j-7l5qeMC1a7"
      },
      "outputs": [],
      "source": [
        "class DQNetwork(nn.Module):\n",
        "  def __init__(self, num_state, num_action):\n",
        "    super(DQNetwork, self).__init__()\n",
        "    self.fc1 = nn.Linear(num_state, 64)\n",
        "    self.fc2 = nn.Linear(64, 64)\n",
        "    self.fc3 = nn.Linear(64, num_action)\n",
        "    self.act1 = nn.LeakyReLU(inplace = True)\n",
        "    self.act2 = nn.LeakyReLU(inplace = True)\n",
        "\n",
        "  def forward(self, state):\n",
        "    x = self.act1(self.fc1(state))\n",
        "    x = self.act2(self.fc2(x))\n",
        "    return self.fc3(x)"
      ]
    },
    {
      "cell_type": "code",
      "execution_count": null,
      "metadata": {
        "colab": {
          "base_uri": "https://localhost:8080/"
        },
        "id": "R-cp4Gm5EOmj",
        "outputId": "01af2678-913c-4e52-8bda-598940a5888c"
      },
      "outputs": [
        {
          "data": {
            "text/plain": [
              "device(type='cuda')"
            ]
          },
          "execution_count": 7,
          "metadata": {},
          "output_type": "execute_result"
        }
      ],
      "source": [
        "# GPU check\n",
        "device = torch.device(\"cuda\" if torch.cuda.is_available() else \"cpu\")\n",
        "device"
      ]
    },
    {
      "cell_type": "markdown",
      "metadata": {
        "id": "_d6CLrhozNqu"
      },
      "source": [
        "# **MEMORY MANAGEMENT**"
      ]
    },
    {
      "cell_type": "code",
      "execution_count": null,
      "metadata": {
        "id": "iaBUP73JEliI"
      },
      "outputs": [],
      "source": [
        "class memory_buffer:\n",
        "  def __init__(self, buffer_size, batch_size):\n",
        "    self.batch_size = batch_size\n",
        "    self.replay_memory = deque(maxlen=buffer_size)\n",
        "    self.experience_tuple = namedtuple(\"Experience\", field_names = [\"current_state\", \"action\", \"reward\", \"next_state\", \"done\"])\n",
        "\n",
        "  def update_memory(self, current_state, action, reward, next_state, done):\n",
        "    mem = self.experience_tuple(current_state, action, reward, next_state, done)\n",
        "    self.replay_memory.append(mem)\n",
        "\n",
        "  def sample_memory(self):\n",
        "    experiences = random.sample(self.replay_memory, k=self.batch_size)\n",
        "    batch_size = len(experiences)\n",
        "    current_states = np.empty((batch_size, *experiences[0].current_state.shape))\n",
        "    actions = np.empty((batch_size, 1), dtype=np.int64)\n",
        "    rewards = np.empty((batch_size, 1), dtype=np.float32)\n",
        "    next_states = np.empty((batch_size, *experiences[0].next_state.shape))\n",
        "    done_flag = np.empty((batch_size, 1), dtype=np.uint8)\n",
        "\n",
        "    for i, experience in enumerate(experiences):\n",
        "        current_states[i] = experience.current_state\n",
        "        actions[i] = experience.action\n",
        "        rewards[i] = experience.reward\n",
        "        next_states[i] = experience.next_state\n",
        "        done_flag[i] = experience.done\n",
        "\n",
        "    current_states = torch.from_numpy(current_states).float().to(device)\n",
        "    actions = torch.from_numpy(actions).long().to(device)\n",
        "    rewards = torch.from_numpy(rewards).float().to(device)\n",
        "    next_states = torch.from_numpy(next_states).float().to(device)\n",
        "    done_flag = torch.from_numpy(done_flag).float().to(device)\n",
        "\n",
        "    return (current_states, actions, rewards, next_states, done_flag)\n",
        "\n",
        "\n",
        "  def __len__(self):\n",
        "    return len(self.replay_memory)"
      ]
    },
    {
      "cell_type": "markdown",
      "metadata": {
        "id": "iyilhqMgzQ7I"
      },
      "source": [
        "# **AGENT**"
      ]
    },
    {
      "cell_type": "code",
      "execution_count": null,
      "metadata": {
        "id": "PZaE2ZqdQylc"
      },
      "outputs": [],
      "source": [
        "class Agent():\n",
        "  def __init__(self, num_state, num_action, seed, lr):\n",
        "    self.num_state = num_state\n",
        "    self.num_action = num_action\n",
        "    self.mem_buf = memory_buffer(int(1e5), 64)\n",
        "    self.update_step = 0\n",
        "    self.local_network = DQNetwork(num_state, num_action).to(device)\n",
        "    self.target_network = DQNetwork(num_state, num_action).to(device)\n",
        "    self.optimizer = optim.Adam(self.local_network.parameters(), lr = lr)\n",
        "    self.criterion = nn.MSELoss()\n",
        "\n",
        "  def update_weights(self, localf, targetf, tau):\n",
        "    with torch.no_grad():\n",
        "        for targetp, localp in zip(targetf.parameters(), localf.parameters()):\n",
        "            targetp.data.copy_(tau * localp.data + (1.0 - tau) * targetp.data)\n",
        "\n",
        "  def agent_learn(self, experiences, gamma):\n",
        "    current_states, actions, rewards, next_states, done_flag = experiences\n",
        "\n",
        "    with torch.no_grad():\n",
        "        next_target = self.target_network(next_states).max(1)[0].unsqueeze(1)\n",
        "        Q_target = rewards + gamma * next_target * (1 - done_flag)\n",
        "\n",
        "    Q_expected = self.local_network(current_states).gather(1, actions)\n",
        "\n",
        "    loss = self.criterion(Q_expected, Q_target)\n",
        "\n",
        "    self.optimizer.zero_grad()\n",
        "    loss.backward()\n",
        "    self.optimizer.step()\n",
        "\n",
        "    self.update_weights(self.local_network, self.target_network, tau=1e-3)\n",
        "\n",
        "  def move(self, current_state, action, reward, state_next, done):\n",
        "    self.mem_buf.update_memory(current_state, action, reward, state_next, done)\n",
        "    self.update_step = (self.update_step + 1) % 4\n",
        "    if self.update_step == 0:\n",
        "      if len(self.mem_buf) > self.mem_buf.batch_size:\n",
        "        experiences_sample = self.mem_buf.sample_memory()\n",
        "        self.agent_learn(experiences_sample, gamma = 0.99)\n",
        "\n",
        "\n",
        "  def agent_action(self, state, epsilon = 0.0):\n",
        "    state = torch.from_numpy(state).float()\n",
        "    state = state.unsqueeze(0).to(device)\n",
        "\n",
        "    self.local_network.eval()\n",
        "    with torch.no_grad():\n",
        "      a_val = self.local_network(state)\n",
        "    self.local_network.train()\n",
        "    if random.random() > epsilon:\n",
        "      return np.argmax(a_val.cpu().data.numpy())\n",
        "    else:\n",
        "      return random.choice(np.arange(self.num_action))\n"
      ]
    },
    {
      "cell_type": "markdown",
      "metadata": {
        "id": "Q-y23tBdzUj_"
      },
      "source": [
        "# **GET SCORES**"
      ]
    },
    {
      "cell_type": "code",
      "execution_count": null,
      "metadata": {
        "colab": {
          "background_save": true,
          "base_uri": "https://localhost:8080/"
        },
        "id": "GDGQBv2CftrV",
        "outputId": "cd8ecb7d-d423-49bc-d855-91f03379b171"
      },
      "outputs": [
        {
          "name": "stdout",
          "output_type": "stream",
          "text": [
            "Episode Number: 100 \tAverage Score: -128.58 \tEpsilon val: 0.61\n",
            "Episode Number: 200 \tAverage Score: -67.02 \tEpsilon val: 0.37\n",
            "Episode Number: 300 \tAverage Score: -35.24 \tEpsilon val: 0.22\n",
            "Episode Number: 400 \tAverage Score: 19.50 \tEpsilon val: 0.13\n",
            "Episode Number: 500 \tAverage Score: 138.18 \tEpsilon val: 0.08\n",
            "Episode Number: 600 \tAverage Score: 186.40 \tEpsilon val: 0.05\n",
            "Episode Number: 700 \tAverage Score: 178.14 \tEpsilon val: 0.03\n",
            "Episode Number: 728 \tAverage Score: 200.01 \tEpsilon val: 0.03\n",
            " It took 628 episodes to solve with average score of : 200.01\n"
          ]
        }
      ],
      "source": [
        "def get_scores(num_episodes=2000, epsilon_start=1.0, epsilon_end=0.01, epsilon_decrement=0.995):\n",
        "  scores_out = []\n",
        "  n = num_episodes + 1\n",
        "  epsilons = []\n",
        "  score_window = deque(maxlen = 100)\n",
        "  epsilon = epsilon_start\n",
        "\n",
        "  for i in range(1, n):\n",
        "    current_state = env.reset()\n",
        "    score = 0\n",
        "\n",
        "    for j in range(1000):\n",
        "      action = agent.agent_action(current_state, epsilon)\n",
        "      state_next, rewrd, done, info = env.step(action)\n",
        "      agent.move(current_state, action, rewrd, state_next, done)\n",
        "      current_state = state_next\n",
        "      score += rewrd\n",
        "\n",
        "      if done:\n",
        "        break\n",
        "\n",
        "    score_window.append(score)\n",
        "    scores_out.append(score)\n",
        "    epsilon = max(epsilon_end, epsilon_decrement * epsilon)\n",
        "    epsilons.append(epsilon)\n",
        "    average_score = np.mean(score_window)\n",
        "    check_val = 200.0\n",
        "\n",
        "    print('\\rEpisode Number: {} \\tAverage Score: {:.2f} \\tEpsilon val: {:.2f}'.format(i, average_score, epsilon), end=\"\")\n",
        "    if i % 100 == 0:\n",
        "\n",
        "            print('\\rEpisode Number: {} \\tAverage Score: {:.2f} \\tEpsilon val: {:.2f}'.format(i, average_score, epsilon))\n",
        "\n",
        "    if average_score >= check_val:\n",
        "\n",
        "        print('\\n It took {:d} episodes to solve with average score of : {:.2f}'.format(i-100, average_score))\n",
        "        torch.save(agent.local_network.state_dict(), 'checkpoint.pth')\n",
        "        break\n",
        "  return scores_out, epsilons\n",
        "\n",
        "agent = Agent(num_state = 8, num_action = 4, seed = 42, lr = 0.001)\n",
        "scores, epsilons = get_scores()"
      ]
    },
    {
      "cell_type": "markdown",
      "metadata": {
        "id": "7O9pUSMJzXh2"
      },
      "source": [
        "# **PLOTS**"
      ]
    },
    {
      "cell_type": "code",
      "execution_count": null,
      "metadata": {
        "colab": {
          "background_save": true
        },
        "id": "d1rMafiyL1Rk",
        "outputId": "7fa2daaf-eeff-41e6-87a2-fecd7db2f700"
      },
      "outputs": [
        {
          "data": {
            "image/png": "[encoded data removed]",
            "text/plain": [
              "<Figure size 640x480 with 1 Axes>"
            ]
          },
          "metadata": {},
          "output_type": "display_data"
        },
        {
          "data": {
            "image/png": "[encoded data removed]",
            "text/plain": [
              "<Figure size 640x480 with 1 Axes>"
            ]
          },
          "metadata": {},
          "output_type": "display_data"
        }
      ],
      "source": [
        "fig1, axs1 = plt.subplots()\n",
        "axs1.plot(np.arange(len(scores)), scores)\n",
        "axs1.set(xlabel='Episode', ylabel='Score')\n",
        "axs1.tick_params(axis='y')\n",
        "fig1.tight_layout()\n",
        "fig1.savefig('scores_plot.png')\n",
        "plt.show()\n",
        "\n",
        "fig2, axs2 = plt.subplots()\n",
        "axs2.plot(np.arange(len(epsilons)), epsilons,)\n",
        "axs2.set(xlabel='Episode', ylabel='Epsilon')\n",
        "axs2.tick_params(axis='y')\n",
        "fig2.tight_layout()\n",
        "fig2.savefig('epsilon_plot.png')\n",
        "plt.show()"
      ]
    },
    {
      "cell_type": "code",
      "execution_count": null,
      "metadata": {
        "colab": {
          "background_save": true
        },
        "id": "TK4lhEmzL546",
        "outputId": "390c7444-141f-4e66-a62c-43bfeac8e3b9"
      },
      "outputs": [
        {
          "data": {
            "image/png": "[encoded data removed]",
            "text/plain": [
              "<Figure size 640x480 with 1 Axes>"
            ]
          },
          "metadata": {},
          "output_type": "display_data"
        }
      ],
      "source": [
        "plt.figure()\n",
        "plt.scatter(epsilons, scores, marker='o')\n",
        "plt.xlabel('Epsilon')\n",
        "plt.ylabel('Score')\n",
        "plt.savefig('score_vs_epsilon.png')\n",
        "plt.show()"
      ]
    },
    {
      "cell_type": "code",
      "execution_count": null,
      "metadata": {
        "id": "Op6nbQRN0jwm"
      },
      "outputs": [],
      "source": [
        "# Reward per episode for 100 consecutive episodes using you trained agent and discussion of the results.\n",
        "def test_agent(agent, env, n_episodes=100):\n",
        "    checkpoint = torch.load('checkpoint.pth')\n",
        "    agent.local_network.load_state_dict(checkpoint)\n",
        "\n",
        "    scores = []\n",
        "    for i in range(1, n_episodes+1):\n",
        "        state = env.reset()\n",
        "        score = 0\n",
        "        while True:\n",
        "            action = agent.agent_action(state)\n",
        "            next_state, reward, done, _ = env.step(action)\n",
        "            score += reward\n",
        "            state = next_state\n",
        "            if done:\n",
        "                break\n",
        "        scores.append(score)\n",
        "        print('\\rEpisode {}\\tAverage Score: {:.2f}'.format(i, np.mean(scores)), end = \"\")\n",
        "    return scores\n",
        "agent = Agent(num_state=8, num_action=4, seed=42, lr = 0.001)\n",
        "scores = test_agent(agent, env)\n",
        "plt.figure(figsize=(10, 6))\n",
        "plt.plot(np.arange(len(scores)), scores)\n",
        "plt.xlabel('Episode')\n",
        "plt.ylabel('Score')\n",
        "plt.show()"
      ]
    },
    {
      "cell_type": "code",
      "execution_count": null,
      "metadata": {
        "id": "258JUhLajgEI"
      },
      "outputs": [],
      "source": [
        "from gym.wrappers.monitoring import video_recorder\n",
        "import os"
      ]
    },
    {
      "cell_type": "code",
      "execution_count": null,
      "metadata": {
        "colab": {
          "base_uri": "https://localhost:8080/"
        },
        "id": "vrtxeHaxdUEy",
        "outputId": "9057b9de-220c-4686-fe8f-e0145fae053f"
      },
      "outputs": [
        {
          "name": "stderr",
          "output_type": "stream",
          "text": [
            "/usr/local/lib/python3.10/dist-packages/gym/core.py:317: DeprecationWarning: \u001b[33mWARN: Initializing wrapper in old step API which returns one bool instead of two. It is recommended to set `new_step_api=True` to use new step API. This will be the default behaviour in future.\u001b[0m\n",
            "  deprecation(\n",
            "/usr/local/lib/python3.10/dist-packages/gym/wrappers/step_api_compatibility.py:39: DeprecationWarning: \u001b[33mWARN: Initializing environment in old step API which returns one bool instead of two. It is recommended to set `new_step_api=True` to use new step API. This will be the default behaviour in future.\u001b[0m\n",
            "  deprecation(\n",
            "/usr/local/lib/python3.10/dist-packages/gym/wrappers/monitoring/video_recorder.py:78: DeprecationWarning: \u001b[33mWARN: Recording ability for environment LunarLander-v2 initialized with `render_mode=None` is marked as deprecated and will be removed in the future.\u001b[0m\n",
            "  logger.deprecation(\n",
            "/usr/local/lib/python3.10/dist-packages/gym/wrappers/monitoring/video_recorder.py:101: DeprecationWarning: \u001b[33mWARN: <class 'gym.wrappers.monitoring.video_recorder.VideoRecorder'> is marked as deprecated and will be removed in the future.\u001b[0m\n",
            "  logger.deprecation(\n",
            "/usr/local/lib/python3.10/dist-packages/gym/core.py:43: DeprecationWarning: \u001b[33mWARN: The argument mode in render method is deprecated; use render_mode during environment initialization instead.\n",
            "See here for more information: https://www.gymlibrary.ml/content/api/\u001b[0m\n",
            "  deprecation(\n",
            "/usr/local/lib/python3.10/dist-packages/gym/core.py:43: DeprecationWarning: \u001b[33mWARN: The argument mode in render method is deprecated; use render_mode during environment initialization instead.\n",
            "See here for more information: https://www.gymlibrary.ml/content/api/\u001b[0m\n",
            "  deprecation(\n"
          ]
        }
      ],
      "source": [
        "def display_model_video(agent, environment_name):\n",
        "\n",
        "    os.makedirs('video_dir', exist_ok=True)\n",
        "\n",
        "    env = gym.make(environment_name)\n",
        "    video_rec = video_recorder.VideoRecorder(env, path=\"video_dir/{}.mp4\".format(environment_name))\n",
        "    loaded_model = torch.load('checkpoint.pth')\n",
        "    agent.local_network.load_state_dict(loaded_model)\n",
        "    initial_state = env.reset()\n",
        "    termination_flag = False\n",
        "\n",
        "    while not termination_flag:\n",
        "        frame_image = env.render(mode='rgb_array')\n",
        "        video_rec.capture_frame()\n",
        "        selected_action = agent.agent_action(initial_state)\n",
        "        initial_state, reward, termination_flag, _ = env.step(selected_action)\n",
        "\n",
        "    video_rec.close()\n",
        "    env.close()\n",
        "\n",
        "trained_agent = Agent(num_state=8, num_action=4, seed=0, lr = 0.001)\n",
        "display_model_video(trained_agent, 'LunarLander-v2')\n"
      ]
    },
    {
      "cell_type": "code",
      "execution_count": null,
      "metadata": {
        "colab": {
          "base_uri": "https://localhost:8080/",
          "height": 261
        },
        "id": "MFpPL6pUmXjn",
        "outputId": "d7b3a106-d53c-408c-b8ee-b321b4449d5b"
      },
      "outputs": [
        {
          "data": {
            "text/html": [
              "\n",
              "    <video width=\"320\" height=\"240\" controls>\n",
              "        <source src=\"/content/video_dir/LunarLander-v2.mp4\" type=\"video/mp4\">\n",
              "    </video>\n"
            ],
            "text/plain": [
              "<IPython.core.display.HTML object>"
            ]
          },
          "execution_count": 19,
          "metadata": {},
          "output_type": "execute_result"
        }
      ],
      "source": [
        "from IPython.display import HTML\n",
        "\n",
        "HTML(\"\"\"\n",
        "    <video width=\"320\" height=\"240\" controls>\n",
        "        <source src=\"/content/video_dir/LunarLander-v2.mp4\" type=\"video/mp4\">\n",
        "    </video>\n",
        "\"\"\")"
      ]
    },
    {
      "cell_type": "markdown",
      "metadata": {
        "id": "eTiHZUhG1jIe"
      },
      "source": [
        "# **Graphs**"
      ]
    },
    {
      "cell_type": "code",
      "execution_count": null,
      "metadata": {
        "colab": {
          "base_uri": "https://localhost:8080/"
        },
        "id": "pl8iwNBmhSNf",
        "outputId": "6786f66a-31ca-4b5e-875f-f7ac3ebf39be"
      },
      "outputs": [
        {
          "name": "stderr",
          "output_type": "stream",
          "text": [
            "/usr/local/lib/python3.10/dist-packages/ipykernel/ipkernel.py:283: DeprecationWarning: `should_run_async` will not call `transform_cell` automatically in the future. Please pass the result to `transformed_cell` argument and any exception that happen during thetransform in `preprocessing_exc_tuple` in IPython 7.17 and above.\n",
            "  and should_run_async(code)\n"
          ]
        }
      ],
      "source": [
        "class Agent():\n",
        "  def __init__(self, num_state, num_action, seed, lr, gamma, epsilon, tau):\n",
        "    self.num_state = num_state\n",
        "    self.num_action = num_action\n",
        "    self.mem_buf = memory_buffer(int(1e5), 64)\n",
        "    self.update_step = 0\n",
        "    self.local_network = DQNetwork(num_state, num_action).to(device)\n",
        "    self.target_network = DQNetwork(num_state, num_action).to(device)\n",
        "    self.optimizer = optim.Adam(self.local_network.parameters(), lr = lr)\n",
        "    self.criterion = nn.MSELoss()\n",
        "    self.epsilon = epsilon\n",
        "\n",
        "  def update_weights(self, localf, targetf, tau):\n",
        "    with torch.no_grad():\n",
        "        for targetp, localp in zip(targetf.parameters(), localf.parameters()):\n",
        "            targetp.data.copy_(tau * localp.data + (1.0 - tau) * targetp.data)\n",
        "\n",
        "  def agent_learn(self, experiences, gamma):\n",
        "    current_states, actions, rewards, next_states, done_flag = experiences\n",
        "\n",
        "    with torch.no_grad():\n",
        "        next_target = self.target_network(next_states).max(1)[0].unsqueeze(1)\n",
        "        Q_target = rewards + gamma * next_target * (1 - done_flag)\n",
        "\n",
        "    Q_expected = self.local_network(current_states).gather(1, actions)\n",
        "\n",
        "    loss = self.criterion(Q_expected, Q_target)\n",
        "\n",
        "    self.optimizer.zero_grad()\n",
        "    loss.backward()\n",
        "    self.optimizer.step()\n",
        "\n",
        "    self.update_weights(self.local_network, self.target_network, tau=tau)\n",
        "\n",
        "  def move(self, current_state, action, reward, state_next, done):\n",
        "    self.mem_buf.update_memory(current_state, action, reward, state_next, done)\n",
        "    self.update_step = (self.update_step + 1) % 4\n",
        "    if self.update_step == 0:\n",
        "      if len(self.mem_buf) > self.mem_buf.batch_size:\n",
        "        experiences_sample = self.mem_buf.sample_memory()\n",
        "        self.agent_learn(experiences_sample, gamma = gamma)\n",
        "\n",
        "\n",
        "  def agent_action(self, state):\n",
        "    state = torch.from_numpy(state).float()\n",
        "    state = state.unsqueeze(0).to(device)\n",
        "\n",
        "    self.local_network.eval()\n",
        "    with torch.no_grad():\n",
        "      a_val = self.local_network(state)\n",
        "    self.local_network.train()\n",
        "\n",
        "    if random.random() > self.epsilon:\n",
        "      return np.argmax(a_val.cpu().data.numpy())\n",
        "    else:\n",
        "      return random.choice(np.arange(self.num_action))\n"
      ]
    },
    {
      "cell_type": "code",
      "execution_count": null,
      "metadata": {
        "id": "GJ_EbJYD4y6q"
      },
      "outputs": [],
      "source": [
        "def get_scores(agent, num_episodes=2000, epsilon_start=1.0, epsilon_end=0.01, epsilon_decrement=0.995):\n",
        "  scores_out = []\n",
        "  n = num_episodes + 1\n",
        "  epsilons = []\n",
        "  score_window = deque(maxlen = 100)\n",
        "  epsilon = epsilon_start\n",
        "\n",
        "  for i in range(1, n):\n",
        "    current_state = env.reset()\n",
        "    score = 0\n",
        "\n",
        "    for j in range(1000):\n",
        "      action = agent.agent_action(current_state)\n",
        "      state_next, rewrd, done, info = env.step(action)\n",
        "      agent.move(current_state, action, rewrd, state_next, done)\n",
        "      current_state = state_next\n",
        "      score += rewrd\n",
        "      if done:\n",
        "        break\n",
        "\n",
        "    score_window.append(score)\n",
        "    scores_out.append(score)\n",
        "    epsilon = max(epsilon_end, epsilon_decrement * epsilon)\n",
        "    epsilons.append(epsilon)\n",
        "    average_score = np.mean(score_window)\n",
        "    check_val = 200.0\n",
        "\n",
        "    print('\\rEpisode Number: {} \\tAverage Score: {:.2f} \\tEpsilon val: {:.2f}'.format(i, average_score, epsilon), end=\"\")\n",
        "    if i % 100 == 0:\n",
        "\n",
        "            print('\\rEpisode Number: {} \\tAverage Score: {:.2f} \\tEpsilon val: {:.2f}'.format(i, average_score, epsilon))\n",
        "\n",
        "    if average_score >= check_val:\n",
        "\n",
        "        print('\\n It took {:d} episodes to solve with average score of : {:.2f}'.format(i-100, average_score))\n",
        "        torch.save(agent.local_network.state_dict(), 'checkpoint.pth')\n",
        "        break\n",
        "  return scores, epsilons"
      ]
    },
    {
      "cell_type": "markdown",
      "metadata": {
        "id": "Qp9B4q7XKose"
      },
      "source": [
        "# **EXPERIMENTING WITH HYPERPARAMETERS**"
      ]
    },
    {
      "cell_type": "code",
      "execution_count": null,
      "metadata": {
        "colab": {
          "base_uri": "https://localhost:8080/"
        },
        "id": "aPACEeFT8995",
        "outputId": "9984ff14-b335-4aa7-b57e-0443afad837b"
      },
      "outputs": [
        {
          "name": "stdout",
          "output_type": "stream",
          "text": [
            "Episode Number: 100 \tAverage Score: -192.55 \tEpsilon val: 0.61\n",
            "Episode Number: 200 \tAverage Score: -112.39 \tEpsilon val: 0.37\n",
            "Episode Number: 300 \tAverage Score: -87.35 \tEpsilon val: 0.22\n",
            "Episode Number: 400 \tAverage Score: 2.11 \tEpsilon val: 0.13\n",
            "Episode Number: 500 \tAverage Score: -11.07 \tEpsilon val: 0.08\n",
            "Episode Number: 600 \tAverage Score: -19.52 \tEpsilon val: 0.05\n",
            "Episode Number: 700 \tAverage Score: 36.21 \tEpsilon val: 0.03\n",
            "Episode Number: 800 \tAverage Score: 6.62 \tEpsilon val: 0.02\n",
            "Episode Number: 900 \tAverage Score: 31.36 \tEpsilon val: 0.01\n",
            "Episode Number: 1000 \tAverage Score: 26.53 \tEpsilon val: 0.01\n",
            "Episode Number: 1100 \tAverage Score: 22.30 \tEpsilon val: 0.01\n",
            "Episode Number: 1200 \tAverage Score: 30.39 \tEpsilon val: 0.01\n",
            "Episode Number: 1300 \tAverage Score: 40.53 \tEpsilon val: 0.01\n",
            "Episode Number: 1400 \tAverage Score: 56.55 \tEpsilon val: 0.01\n",
            "Episode Number: 1500 \tAverage Score: 38.27 \tEpsilon val: 0.01\n",
            "Episode Number: 1600 \tAverage Score: 32.03 \tEpsilon val: 0.01\n",
            "Episode Number: 1700 \tAverage Score: 48.65 \tEpsilon val: 0.01\n",
            "Episode Number: 1800 \tAverage Score: 0.96 \tEpsilon val: 0.01\n",
            "Episode Number: 1900 \tAverage Score: 18.20 \tEpsilon val: 0.01\n",
            "Episode Number: 2000 \tAverage Score: 4.05 \tEpsilon val: 0.01\n",
            "Episode Number: 100 \tAverage Score: -215.13 \tEpsilon val: 0.61\n",
            "Episode Number: 200 \tAverage Score: -126.41 \tEpsilon val: 0.37\n",
            "Episode Number: 300 \tAverage Score: -102.17 \tEpsilon val: 0.22\n",
            "Episode Number: 302 \tAverage Score: -105.67 \tEpsilon val: 0.22"
          ]
        }
      ],
      "source": [
        "# GAMMA VALUES\n",
        "\n",
        "def moving_average(data_set, periods=3):\n",
        "    weights = np.ones(periods) / periods\n",
        "    return np.convolve(data_set, weights, mode='valid')\n",
        "gamma_values = [0.8, 0.9, 0.95, 0.99, 0.999]\n",
        "num_state = 8\n",
        "num_action = 4\n",
        "seed = 42\n",
        "lr = 0.001\n",
        "tau = 0.001\n",
        "for gamma in gamma_values:\n",
        "  agent = Agent(num_state, num_action, seed, lr, gamma=gamma, epsilon= 0.1,  tau = tau)\n",
        "  scores, _ = get_scores(agent)\n",
        "  scores_smooth = moving_average(scores)\n",
        "  plt.plot(scores, label=f'Gamma: {gamma}')\n",
        "\n",
        "plt.ylabel('Smoothed Score')\n",
        "plt.xlabel('Episode')\n",
        "plt.legend()\n",
        "plt.show()"
      ]
    },
    {
      "cell_type": "code",
      "execution_count": null,
      "metadata": {
        "id": "5VeyAjXp7qyd"
      },
      "outputs": [],
      "source": [
        "# EPSILON VALUES\n",
        "\n",
        "def moving_average(data_set, periods=3):\n",
        "    weights = np.ones(periods) / periods\n",
        "    return np.convolve(data_set, weights, mode='valid')\n",
        "\n",
        "epsilon_values = [0.1, 0.2, 0.4, 0.5]\n",
        "num_state = 8\n",
        "num_action = 4\n",
        "seed = 42\n",
        "lr = 0.001\n",
        "tau = 0.001\n",
        "for epsilon in epsilon_values:\n",
        "  agent = Agent(num_state, num_action, seed, lr, gamma=0.99, epsilon=epsilon,  tau = tau)\n",
        "  scores, _ = get_scores(agent)\n",
        "  scores_smooth = moving_average(scores)\n",
        "  plt.plot(scores, label=f'Epsilon: {epsilon}')\n",
        "\n",
        "plt.ylabel('Smoothed Score')\n",
        "plt.xlabel('Episode')\n",
        "plt.legend()\n",
        "plt.show()"
      ]
    },
    {
      "cell_type": "code",
      "execution_count": null,
      "metadata": {
        "id": "OCFL9lqfKIJt"
      },
      "outputs": [],
      "source": [
        "# Learning Rate\n",
        "\n",
        "def moving_average(data_set, periods=3):\n",
        "    weights = np.ones(periods) / periods\n",
        "    return np.convolve(data_set, weights, mode='valid')\n",
        "\n",
        "learning_rates = [0.001, 0.005, 0.01] # 0.0001, 0.0005,\n",
        "results = {}\n",
        "tau = 0.001\n",
        "for lr in learning_rates:\n",
        "    agent = Agent(num_state=8, num_action=4, seed=42, lr=lr, gamma=0.99, epsilon=0.1, tau=tau)\n",
        "    scores, _ = get_scores(agent)\n",
        "    scores_smooth = moving_average(scores)\n",
        "    results[lr] = scores_smooth\n",
        "\n",
        "fig = plt.figure()\n",
        "ax = fig.add_subplot(111)\n",
        "\n",
        "for lr, scores in results.items():\n",
        "    plt.plot(np.arange(len(scores)), scores, label=f'LR: {lr}')\n",
        "\n",
        "plt.ylabel('Smoothed Score')\n",
        "plt.xlabel('Episode')\n",
        "plt.legend()\n",
        "plt.show()"
      ]
    },
    {
      "cell_type": "code",
      "execution_count": null,
      "metadata": {
        "id": "oXzUyZYi0T83"
      },
      "outputs": [],
      "source": [
        "# TAU VALUES\n",
        "#smoothen out outputs\n",
        "\n",
        "def moving_average(data_set, periods=3):\n",
        "    weights = np.ones(periods) / periods\n",
        "    return np.convolve(data_set, weights, mode='valid')\n",
        "\n",
        "tau_values = [0.001, 0.005, 0.01, 0.05, 0.1]\n",
        "num_state = 8\n",
        "num_action = 4\n",
        "seed = 42\n",
        "lr = 0.001\n",
        "epsilon = 0.1\n",
        "for tau in tau_values:\n",
        "  agent = Agent(num_state, num_action, seed, lr, gamma=0.99, epsilon=epsilon, tau=tau)\n",
        "  scores, _ = get_scores(agent)\n",
        "  scores_smooth = moving_average(scores)\n",
        "  plt.plot(scores_smooth, label=f'Tau: {tau}')\n",
        "\n",
        "plt.xlabel('Episode')\n",
        "plt.ylabel('Smoothed Score')\n",
        "plt.legend()\n",
        "plt.show()"
      ]
    },
    {
      "cell_type": "code",
      "execution_count": null,
      "metadata": {
        "id": "ry-dUViKehWI"
      },
      "outputs": [],
      "source": []
    }
  ],
  "metadata": {
    "accelerator": "GPU",
    "colab": {
      "provenance": []
    },
    "kernelspec": {
      "display_name": "Python 3",
      "name": "python3"
    },
    "language_info": {
      "name": "python"
    }
  },
  "nbformat": 4,
  "nbformat_minor": 0
}